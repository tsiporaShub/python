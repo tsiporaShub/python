{
 "cells": [
  {
   "cell_type": "code",
   "execution_count": 5,
   "id": "180f4049-11e6-4551-b31a-944332de666d",
   "metadata": {},
   "outputs": [
    {
     "name": "stdout",
     "output_type": "stream",
     "text": [
      "Requirement already satisfied: numpy in c:\\python310\\lib\\site-packages (1.26.4)\n",
      "Note: you may need to restart the kernel to use updated packages.\n"
     ]
    },
    {
     "name": "stderr",
     "output_type": "stream",
     "text": [
      "\n",
      "[notice] A new release of pip is available: 23.3.2 -> 24.0\n",
      "[notice] To update, run: python.exe -m pip install --upgrade pip\n"
     ]
    }
   ],
   "source": [
    "pip install numpy"
   ]
  },
  {
   "cell_type": "code",
   "execution_count": 6,
   "id": "1a17bb74-f8bf-4620-a18b-48ba3e5ea671",
   "metadata": {},
   "outputs": [],
   "source": [
    "import numpy as np"
   ]
  },
  {
   "cell_type": "code",
   "execution_count": 13,
   "id": "bde60c98-dbc6-44ff-805b-216e69dd2198",
   "metadata": {},
   "outputs": [
    {
     "data": {
      "text/plain": [
       "33.0"
      ]
     },
     "execution_count": 13,
     "metadata": {},
     "output_type": "execute_result"
    }
   ],
   "source": [
    "random_int_array = np.random.randint(1, 50 ,size=10)\n",
    "random_int_array\n",
    "m=np.mean(random_int_array)\n",
    "m"
   ]
  },
  {
   "cell_type": "code",
   "execution_count": 14,
   "id": "3e7229f1-f7a5-4968-85d9-53186b2fa1b8",
   "metadata": {},
   "outputs": [
    {
     "data": {
      "text/plain": [
       "10.0"
      ]
     },
     "execution_count": 14,
     "metadata": {},
     "output_type": "execute_result"
    }
   ],
   "source": [
    "arr1=[[1,2,3],\n",
    "      [4,5,6],\n",
    "      [7,8,9]]\n",
    "arr2=[[1,2,3],\n",
    "      [4,5,6],\n",
    "      [7,8,9]]\n",
    "a = np.add(arr1, arr2)\n",
    "m=np.mean(a)\n",
    "m"
   ]
  },
  {
   "cell_type": "code",
   "execution_count": 16,
   "id": "3d5b1912-96f3-4c5e-a05d-b00adc65cd5f",
   "metadata": {},
   "outputs": [
    {
     "data": {
      "text/plain": [
       "array([85, 73, 62, 62, 90, 92, 99, 68])"
      ]
     },
     "execution_count": 16,
     "metadata": {},
     "output_type": "execute_result"
    }
   ],
   "source": [
    "arr = np.random.randint(1, 100 ,size=20)\n",
    "condition = arr > 5\n",
    "filtered_arr = arr[condition]\n",
    "filtered_arr"
   ]
  },
  {
   "cell_type": "code",
   "execution_count": 30,
   "id": "d37b7e6f-c00a-4542-8071-3d03ad2e7220",
   "metadata": {},
   "outputs": [
    {
     "data": {
      "text/plain": [
       "4"
      ]
     },
     "execution_count": 30,
     "metadata": {},
     "output_type": "execute_result"
    }
   ],
   "source": [
    "arr=[1,2,3,4,5,6,7,8,9,10]\n",
    "np.random.shuffle(arr)\n",
    "num=np.random.randint(0,9)\n",
    "arr[num]"
   ]
  },
  {
   "cell_type": "code",
   "execution_count": null,
   "id": "3bbcec83-03f9-4f18-b36b-5d0c349113fd",
   "metadata": {},
   "outputs": [],
   "source": []
  }
 ],
 "metadata": {
  "kernelspec": {
   "display_name": "Python 3 (ipykernel)",
   "language": "python",
   "name": "python3"
  },
  "language_info": {
   "codemirror_mode": {
    "name": "ipython",
    "version": 3
   },
   "file_extension": ".py",
   "mimetype": "text/x-python",
   "name": "python",
   "nbconvert_exporter": "python",
   "pygments_lexer": "ipython3",
   "version": "3.10.8"
  }
 },
 "nbformat": 4,
 "nbformat_minor": 5
}
